{
 "cells": [
  {
   "cell_type": "markdown",
   "metadata": {},
   "source": [
    "This is a CV2 learning notebook. Can be used as reference for writing CV2 scripts later"
   ]
  },
  {
   "cell_type": "code",
   "execution_count": 1,
   "metadata": {
    "collapsed": true
   },
   "outputs": [],
   "source": [
    "import cv2\n",
    "import numpy as np"
   ]
  },
  {
   "cell_type": "code",
   "execution_count": 2,
   "metadata": {
    "collapsed": false
   },
   "outputs": [
    {
     "data": {
      "text/plain": [
       "(300L, 400L, 3L)"
      ]
     },
     "execution_count": 2,
     "metadata": {},
     "output_type": "execute_result"
    }
   ],
   "source": [
    "#img = cv2.imread(r'C:\\Users\\Astha\\Dropbox\\data science\\computer vision\\image\\grassland-1.png')\n",
    "img = cv2.imread(r'image\\grassland-1.png')\n",
    "img.shape"
   ]
  },
  {
   "cell_type": "markdown",
   "metadata": {},
   "source": [
    "#### Display an image"
   ]
  },
  {
   "cell_type": "markdown",
   "metadata": {},
   "source": [
    "cv2.imshow is always used with the next 2 functions, otherwise the window will appear only for ~1 ms. Press any key after the image displays to get rid of it. If you don't close it, apparently things don't seem to run properly. "
   ]
  },
  {
   "cell_type": "code",
   "execution_count": 3,
   "metadata": {
    "collapsed": false
   },
   "outputs": [],
   "source": [
    "cv2.imshow('grassland', img)\n",
    "cv2.waitKey(0)\n",
    "cv2.destroyAllWindows()"
   ]
  },
  {
   "cell_type": "markdown",
   "metadata": {},
   "source": [
    "#### Cropping image = slicing numpy array"
   ]
  },
  {
   "cell_type": "code",
   "execution_count": 4,
   "metadata": {
    "collapsed": false
   },
   "outputs": [],
   "source": [
    "cv2.imshow('grassland', img[100:120])\n",
    "cv2.waitKey(0)\n",
    "cv2.destroyAllWindows()"
   ]
  },
  {
   "cell_type": "markdown",
   "metadata": {},
   "source": [
    "### BGR"
   ]
  },
  {
   "cell_type": "markdown",
   "metadata": {},
   "source": [
    "#### The last index stores the 3 rgb channels in the order B,G,R! Mind the order."
   ]
  },
  {
   "cell_type": "code",
   "execution_count": 5,
   "metadata": {
    "collapsed": false
   },
   "outputs": [],
   "source": [
    "cv2.imshow('grassland', img[:,:,0])\n",
    "cv2.waitKey(0)\n",
    "cv2.destroyAllWindows()"
   ]
  },
  {
   "cell_type": "markdown",
   "metadata": {},
   "source": [
    "#### This is how you write an image"
   ]
  },
  {
   "cell_type": "code",
   "execution_count": 6,
   "metadata": {
    "collapsed": false
   },
   "outputs": [
    {
     "data": {
      "text/plain": [
       "True"
      ]
     },
     "execution_count": 6,
     "metadata": {},
     "output_type": "execute_result"
    }
   ],
   "source": [
    "cv2.imwrite('image\\grassland_R.png', img[:,:,0])\n",
    "cv2.imwrite('image\\grassland_G.png', img[:,:,1])"
   ]
  },
  {
   "cell_type": "code",
   "execution_count": 7,
   "metadata": {
    "collapsed": true
   },
   "outputs": [],
   "source": [
    "img_R = img[:,:,2]\n",
    "img_G = img[:,:,1]\n",
    "#img_2 = cv2.imread(r'C:\\Users\\Astha\\Dropbox\\data science\\computer vision\\image\\forest-1.png')\n",
    "img_2 = cv2.imread(r'image\\forest-1.png')"
   ]
  },
  {
   "cell_type": "code",
   "execution_count": 8,
   "metadata": {
    "collapsed": false
   },
   "outputs": [],
   "source": [
    "cv2.imshow('forest', img_2)\n",
    "cv2.waitKey(0)\n",
    "cv2.destroyAllWindows()"
   ]
  },
  {
   "cell_type": "markdown",
   "metadata": {},
   "source": [
    "Inserted the center 100x100 px square of 1 image into another image"
   ]
  },
  {
   "cell_type": "code",
   "execution_count": 9,
   "metadata": {
    "collapsed": false
   },
   "outputs": [],
   "source": [
    "center = np.array(img.shape[:2])/2\n",
    "center_part = img_R[center[0]-50:center[0]+50:1, center[1]-50:center[1]+50:1]"
   ]
  },
  {
   "cell_type": "code",
   "execution_count": 10,
   "metadata": {
    "collapsed": false
   },
   "outputs": [],
   "source": [
    "cv2.imshow('center', center_part)\n",
    "cv2.waitKey(0)\n",
    "cv2.destroyAllWindows()"
   ]
  },
  {
   "cell_type": "code",
   "execution_count": 11,
   "metadata": {
    "collapsed": false
   },
   "outputs": [
    {
     "data": {
      "text/plain": [
       "(100L, 100L)"
      ]
     },
     "execution_count": 11,
     "metadata": {},
     "output_type": "execute_result"
    }
   ],
   "source": [
    "center_part.shape"
   ]
  },
  {
   "cell_type": "code",
   "execution_count": 12,
   "metadata": {
    "collapsed": false
   },
   "outputs": [],
   "source": [
    "img_2R = img_2[:,:,0]\n",
    "img_2R[center[0]-50:center[0]+50:1, center[1]-50:center[1]+50:1] = center_part "
   ]
  },
  {
   "cell_type": "code",
   "execution_count": 13,
   "metadata": {
    "collapsed": false
   },
   "outputs": [
    {
     "data": {
      "text/plain": [
       "True"
      ]
     },
     "execution_count": 13,
     "metadata": {},
     "output_type": "execute_result"
    }
   ],
   "source": [
    "cv2.imshow('new', img_2R)\n",
    "cv2.waitKey(0)\n",
    "cv2.destroyAllWindows()\n",
    "cv2.imwrite('image\\center_added.png', img_2R)"
   ]
  },
  {
   "cell_type": "markdown",
   "metadata": {},
   "source": [
    "#### Image operations example"
   ]
  },
  {
   "cell_type": "markdown",
   "metadata": {},
   "source": [
    "Image operations example. Subtract mean from image, then divide by std dev and finally multiply by 10. This might d funny things because the array type was UInt 8 and this might result in negative or decimal values. "
   ]
  },
  {
   "cell_type": "code",
   "execution_count": 14,
   "metadata": {
    "collapsed": false
   },
   "outputs": [
    {
     "data": {
      "text/plain": [
       "147"
      ]
     },
     "execution_count": 14,
     "metadata": {},
     "output_type": "execute_result"
    }
   ],
   "source": [
    "int(np.mean(img_G))"
   ]
  },
  {
   "cell_type": "code",
   "execution_count": 15,
   "metadata": {
    "collapsed": false
   },
   "outputs": [
    {
     "name": "stdout",
     "output_type": "stream",
     "text": [
      "uint8\n",
      "uint8\n",
      "float64\n",
      "float64\n",
      "float64\n"
     ]
    }
   ],
   "source": [
    "img_Gnew = (img_G - np.mean(img_G))/np.std(img_G)*10 \n",
    "#img_Gnew = img_Gnew/np.mean(img_Gnew)\n",
    "print(img_G.dtype)\n",
    "print((img_G - int(np.mean(img_G))).dtype)\n",
    "print((img_G - np.mean(img_G)).dtype)\n",
    "print(((img_G - np.mean(img_G))/np.std(img_G)).dtype)\n",
    "print(img_Gnew.dtype)"
   ]
  },
  {
   "cell_type": "markdown",
   "metadata": {},
   "source": [
    "Note that the operation caused the image to convert from uint8 to float64. This will create problems with imshow. If we subtract an integer from the uint8 array, it retained the uint8 type of the array. Lets look at this operation in more detail. Numpy array subtraction is different from cv2 array subtraction"
   ]
  },
  {
   "cell_type": "code",
   "execution_count": 16,
   "metadata": {
    "collapsed": false
   },
   "outputs": [],
   "source": [
    "img_G_1 = (img_G - int(np.mean(img_G)))\n",
    "img_G_2 = cv2.add(img_G,-int(np.mean(img_G)))"
   ]
  },
  {
   "cell_type": "code",
   "execution_count": 17,
   "metadata": {
    "collapsed": false
   },
   "outputs": [],
   "source": [
    "cv2.imshow('np addition', img_G_1)\n",
    "cv2.waitKey(0)\n",
    "cv2.destroyAllWindows()"
   ]
  },
  {
   "cell_type": "code",
   "execution_count": 18,
   "metadata": {
    "collapsed": true
   },
   "outputs": [],
   "source": [
    "cv2.imshow('cv2 add', img_G_2)\n",
    "cv2.waitKey(0)\n",
    "cv2.destroyAllWindows()"
   ]
  },
  {
   "cell_type": "code",
   "execution_count": 19,
   "metadata": {
    "collapsed": true
   },
   "outputs": [],
   "source": [
    "cv2.imshow('original', img_G)\n",
    "cv2.waitKey(0)\n",
    "cv2.destroyAllWindows()"
   ]
  },
  {
   "cell_type": "markdown",
   "metadata": {},
   "source": [
    "After looking at all 3 outputs, it is clear that we should use cv2 for these operations and not the plain numpy subtraction. Compared to the original, mean subtraction should make the whole thing darker, but the vanilla subtraction makes some places lighter and some darker. \n",
    "\n",
    "cv2 will threshold numbers below 0 to 0 and above 255 to 255. Below is an example of what numpy will do. "
   ]
  },
  {
   "cell_type": "code",
   "execution_count": 20,
   "metadata": {
    "collapsed": false
   },
   "outputs": [
    {
     "name": "stdout",
     "output_type": "stream",
     "text": [
      "[202]\n"
     ]
    }
   ],
   "source": [
    "x = np.uint8([93])\n",
    "y = np.uint8([147])\n",
    "print x-y #93-147 = -54%256 = 202"
   ]
  },
  {
   "cell_type": "code",
   "execution_count": 21,
   "metadata": {
    "collapsed": true
   },
   "outputs": [],
   "source": [
    "img_G_3 = cv2.add(cv2.add(img_G,-(np.mean(img_G)))/np.std(img_G)*100,(np.mean(img_G)))  "
   ]
  },
  {
   "cell_type": "code",
   "execution_count": 22,
   "metadata": {
    "collapsed": false
   },
   "outputs": [],
   "source": [
    "img_G_3 = img_G_3/np.amax(img_G_3)"
   ]
  },
  {
   "cell_type": "code",
   "execution_count": 23,
   "metadata": {
    "collapsed": false
   },
   "outputs": [],
   "source": [
    "cv2.imshow('cv2 add', img_G_3)\n",
    "cv2.waitKey(0)\n",
    "cv2.destroyAllWindows()"
   ]
  },
  {
   "cell_type": "markdown",
   "metadata": {},
   "source": [
    "#### Adding borders to images"
   ]
  },
  {
   "cell_type": "code",
   "execution_count": 24,
   "metadata": {
    "collapsed": true
   },
   "outputs": [],
   "source": [
    "replicate = cv2.copyMakeBorder(img_G, 50,50,50, 50,cv2.BORDER_REPLICATE)\n",
    "reflect = cv2.copyMakeBorder(img_G,50,50,50, 50,cv2.BORDER_REFLECT)\n",
    "reflect101 = cv2.copyMakeBorder(img_G, 50,50,50, 50,cv2.BORDER_REFLECT_101)\n",
    "wrap = cv2.copyMakeBorder(img_G, 50,50,50, 50,cv2.BORDER_WRAP)\n",
    "constant = cv2.copyMakeBorder(img_G, 50,50,50, 50,cv2.BORDER_CONSTANT, value = 125)\n"
   ]
  },
  {
   "cell_type": "markdown",
   "metadata": {},
   "source": [
    "#### Display multiple images together"
   ]
  },
  {
   "cell_type": "code",
   "execution_count": 25,
   "metadata": {
    "collapsed": false
   },
   "outputs": [
    {
     "data": {
      "image/png": "[encoded data removed]",
      "text/plain": [
       "<matplotlib.figure.Figure at 0x6bc92e8>"
      ]
     },
     "metadata": {},
     "output_type": "display_data"
    }
   ],
   "source": [
    "from matplotlib import pyplot as plt\n",
    "plt.subplot(231),plt.imshow(img_G,'gray'),plt.title('ORIGINAL')\n",
    "plt.subplot(232),plt.imshow(replicate,'gray'),plt.title('REPLICATE')\n",
    "plt.subplot(233),plt.imshow(reflect,'gray'),plt.title('REFLECT')\n",
    "plt.subplot(234),plt.imshow(reflect101,'gray'),plt.title('REFLECT_101')\n",
    "plt.subplot(235),plt.imshow(wrap,'gray'),plt.title('WRAP')\n",
    "plt.subplot(236),plt.imshow(constant,'gray'),plt.title('CONSTANT')\n",
    "\n",
    "plt.show()"
   ]
  },
  {
   "cell_type": "code",
   "execution_count": 26,
   "metadata": {
    "collapsed": false
   },
   "outputs": [
    {
     "data": {
      "text/plain": [
       "True"
      ]
     },
     "execution_count": 26,
     "metadata": {},
     "output_type": "execute_result"
    }
   ],
   "source": [
    "cv2.useOptimized()"
   ]
  },
  {
   "cell_type": "markdown",
   "metadata": {},
   "source": [
    "#### Hough transform to detect lines"
   ]
  },
  {
   "cell_type": "markdown",
   "metadata": {},
   "source": [
    "First lets use the built in hough transform in OpenCV to try it out. We will use the image below. "
   ]
  },
  {
   "cell_type": "code",
   "execution_count": 27,
   "metadata": {
    "collapsed": true
   },
   "outputs": [],
   "source": [
    "img = cv2.imread(r\"image\\ps1-input0-noise.png\")"
   ]
  },
  {
   "cell_type": "code",
   "execution_count": 28,
   "metadata": {
    "collapsed": false
   },
   "outputs": [],
   "source": [
    "cv2.imshow('image1', img)\n",
    "cv2.waitKey(0)\n",
    "cv2.destroyAllWindows()"
   ]
  },
  {
   "cell_type": "code",
   "execution_count": 29,
   "metadata": {
    "collapsed": false
   },
   "outputs": [],
   "source": [
    "gray = cv2.cvtColor(img,cv2.COLOR_BGR2GRAY)\n",
    "median = cv2.medianBlur(gray,15)\n",
    "blur = cv2.GaussianBlur(gray,(9,9),1)\n",
    "cv2.imshow('GaussianBlur',blur)\n",
    "cv2.waitKey(0)\n",
    "cv2.destroyAllWindows()\n",
    "cv2.imshow('MedianFilter',median)\n",
    "cv2.waitKey(0)\n",
    "cv2.destroyAllWindows()"
   ]
  },
  {
   "cell_type": "code",
   "execution_count": 30,
   "metadata": {
    "collapsed": false
   },
   "outputs": [],
   "source": [
    "edges = cv2.Canny(median,50,200,apertureSize = 3)\n",
    "cv2.imshow('Edges',edges)\n",
    "cv2.waitKey(0)\n",
    "cv2.destroyAllWindows()"
   ]
  },
  {
   "cell_type": "code",
   "execution_count": 31,
   "metadata": {
    "collapsed": false
   },
   "outputs": [],
   "source": [
    "lines = cv2.HoughLines(edges,0.25,np.pi/180,60)\n",
    "img2 = np.copy(median)\n",
    "cv2.imshow('original',img)\n",
    "cv2.waitKey(0)\n",
    "cv2.destroyAllWindows()\n",
    "for rho,theta in lines.squeeze():\n",
    "    a = np.cos(theta)\n",
    "    b = np.sin(theta)\n",
    "    x0 = a*rho\n",
    "    y0 = b*rho\n",
    "    x1 = int(x0 + 1000*(-b))\n",
    "    y1 = int(y0 + 1000*(a))\n",
    "    x2 = int(x0 - 1000*(-b))\n",
    "    y2 = int(y0 - 1000*(a))\n",
    "    cv2.line(img2,(x1,y1),(x2,y2),(0,0,255),1)\n",
    "    \n",
    "\n",
    "cv2.imshow('lines',img2)\n",
    "cv2.waitKey(0)\n",
    "cv2.destroyAllWindows()"
   ]
  },
  {
   "cell_type": "code",
   "execution_count": 32,
   "metadata": {
    "collapsed": false
   },
   "outputs": [
    {
     "data": {
      "text/plain": [
       "(363L, 180L)"
      ]
     },
     "execution_count": 32,
     "metadata": {},
     "output_type": "execute_result"
    }
   ],
   "source": [
    "edges_X, edges_Y = np.where(edges == 255)\n",
    "accu = np.zeros((int(np.sqrt(2*len(edges)**2))+1,180))\n",
    "accu.shape"
   ]
  },
  {
   "cell_type": "code",
   "execution_count": 33,
   "metadata": {
    "collapsed": false
   },
   "outputs": [],
   "source": [
    "for i in range(0,len(edges_X)):\n",
    "    for theta in range(0,180):\n",
    "        d = edges_X[i]*np.cos(theta/180.0*np.pi) + edges_Y[i]*np.sin(theta/180.0*np.pi)\n",
    "        #if i == 1:\n",
    "            #print(int(np.round(d)))\n",
    "        accu[int(np.round(d)), theta] += 1\n",
    "   "
   ]
  },
  {
   "cell_type": "code",
   "execution_count": 35,
   "metadata": {
    "collapsed": false
   },
   "outputs": [],
   "source": [
    "cv2.imshow('accu', accu/np.amax(accu)*5)\n",
    "cv2.waitKey(0)\n",
    "cv2.destroyAllWindows()"
   ]
  },
  {
   "cell_type": "code",
   "execution_count": 36,
   "metadata": {
    "collapsed": false
   },
   "outputs": [
    {
     "data": {
      "text/plain": [
       "array([  0,   0,   0, ..., 255, 255, 255], dtype=int64)"
      ]
     },
     "execution_count": 36,
     "metadata": {},
     "output_type": "execute_result"
    }
   ],
   "source": [
    "edges_X"
   ]
  },
  {
   "cell_type": "code",
   "execution_count": 37,
   "metadata": {
    "collapsed": false
   },
   "outputs": [
    {
     "data": {
      "text/plain": [
       "array([  8,  13,  27, ..., 133, 184, 187], dtype=int64)"
      ]
     },
     "execution_count": 37,
     "metadata": {},
     "output_type": "execute_result"
    }
   ],
   "source": [
    "edges_Y"
   ]
  },
  {
   "cell_type": "code",
   "execution_count": 38,
   "metadata": {
    "collapsed": false
   },
   "outputs": [
    {
     "data": {
      "text/plain": [
       "45.0"
      ]
     },
     "execution_count": 38,
     "metadata": {},
     "output_type": "execute_result"
    }
   ],
   "source": [
    "np.arctan2(1,1)*180/np.pi"
   ]
  },
  {
   "cell_type": "markdown",
   "metadata": {},
   "source": [
    "# Stereo - depth - disparity"
   ]
  },
  {
   "cell_type": "code",
   "execution_count": 39,
   "metadata": {
    "collapsed": true
   },
   "outputs": [],
   "source": [
    "import numpy as np\n",
    "import cv2\n",
    "from matplotlib import pyplot as plt"
   ]
  },
  {
   "cell_type": "code",
   "execution_count": 40,
   "metadata": {
    "collapsed": true
   },
   "outputs": [],
   "source": [
    "def find_best_match(patch, strip):\n",
    "    best_x = 0\n",
    "    diff = float(\"inf\")\n",
    "    x_size = int(patch.shape[1])\n",
    "    for col_start in range(0, strip.shape[1]-x_size+1):\n",
    "        other_patch = strip[:, col_start:col_start+x_size]\n",
    "        ssd = np.sum(patch-other_patch)**2\n",
    "        if ssd<diff:\n",
    "            diff = ssd\n",
    "            best_x = col_start\n",
    "            #print(diff)\n",
    "    #patch and strip have the same number of rows. \n",
    "    return best_x"
   ]
  },
  {
   "cell_type": "code",
   "execution_count": 41,
   "metadata": {
    "collapsed": false
   },
   "outputs": [],
   "source": [
    "def disparity_ssd(L, R, patch_size = [8,8]):\n",
    "    assert L.shape == R.shape, \"L and R should have the same size.\"\n",
    "    disparity = np.zeros((L.shape[0] - L.shape[0]%patch_size[0], L.shape[0] - L.shape[0]%patch_size[0]))\n",
    "    #templates are non overlapping\n",
    "    for nrow in range(0,int(L.shape[0]/patch_size[0])):\n",
    "        patch_row_start = 0 + nrow*patch_size[0]\n",
    "        for ncol in range(0,int(L.shape[1]/patch_size[1])):\n",
    "            patch_col_start = 0 + ncol*patch_size[1]\n",
    "            patch_loc = [patch_row_start, patch_col_start]\n",
    "            patch_left = L[patch_loc[0]:patch_loc[0]+patch_size[0],patch_loc[1]:patch_loc[1]+patch_size[1]]\n",
    "            strip_right = R[patch_loc[0]:patch_loc[0]+patch_size[0],:]\n",
    "            best_x = find_best_match(patch_left, strip_right)\n",
    "            disparity[patch_loc[0]:patch_loc[0]+patch_size[0],patch_loc[1]:patch_loc[1]+patch_size[1]] = best_x-patch_col_start\n",
    "    return disparity\n",
    "                      "
   ]
  },
  {
   "cell_type": "code",
   "execution_count": 42,
   "metadata": {
    "collapsed": false,
    "scrolled": false
   },
   "outputs": [],
   "source": [
    "img_L = cv2.imread(r'image\\pair1-L.png')\n",
    "img_R = cv2.imread(r'image\\pair1-R.png')\n",
    "gray_L = cv2.cvtColor(img_L, cv2.COLOR_BGR2GRAY)\n",
    "gray_R = cv2.cvtColor(img_R, cv2.COLOR_BGR2GRAY)\n",
    "\n",
    "cv2.imshow('gray_L', gray_L)\n",
    "cv2.waitKey(0)\n",
    "cv2.destroyAllWindows()\n",
    "cv2.imshow('R', gray_R)\n",
    "cv2.waitKey(0)\n",
    "cv2.destroyAllWindows()\n",
    "#gray_L = gray_L.astype(float)\n",
    "#gray_R = gray_R.astype(float)\n",
    "\n"
   ]
  },
  {
   "cell_type": "code",
   "execution_count": null,
   "metadata": {
    "collapsed": false
   },
   "outputs": [],
   "source": [
    "disparity_L = disparity_ssd(gray_L, gray_R, [8,8])\n",
    "\n",
    "disparity_show = disparity_L - np.amin(disparity_L)\n",
    "disparity_show = disparity_show/np.amax(disparity_show)\n",
    "cv2.imshow('disparity', disparity_show)\n",
    "cv2.waitKey(0)\n",
    "cv2.destroyAllWindows()\n",
    "\n",
    "\n",
    "disparity_R = disparity_ssd(gray_R, gray_L, [8,8])\n",
    "\n",
    "disparity_show = disparity_R - np.amin(disparity_R)\n",
    "disparity_show = disparity_show/np.amax(disparity_show)\n",
    "cv2.imshow('disparity', disparity_show)\n",
    "cv2.waitKey(0)\n",
    "cv2.destroyAllWindows()"
   ]
  },
  {
   "cell_type": "code",
   "execution_count": null,
   "metadata": {
    "collapsed": true
   },
   "outputs": [],
   "source": []
  }
 ],
 "metadata": {
  "kernelspec": {
   "display_name": "Python 2",
   "language": "python",
   "name": "python2"
  },
  "language_info": {
   "codemirror_mode": {
    "name": "ipython",
    "version": 2
   },
   "file_extension": ".py",
   "mimetype": "text/x-python",
   "name": "python",
   "nbconvert_exporter": "python",
   "pygments_lexer": "ipython2",
   "version": "2.7.13"
  }
 },
 "nbformat": 4,
 "nbformat_minor": 2
}
